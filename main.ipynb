{
 "cells": [
  {
   "cell_type": "markdown",
   "id": "3e16b5b0",
   "metadata": {},
   "source": [
    "# Install all packages that we need"
   ]
  },
  {
   "cell_type": "code",
   "execution_count": 5,
   "id": "67183513",
   "metadata": {},
   "outputs": [],
   "source": [
    "# %pip install matplotlib mplsoccer pandas numpy requests\n",
    "# %pip freeze > requirements.txt"
   ]
  },
  {
   "cell_type": "markdown",
   "id": "a0d57988",
   "metadata": {},
   "source": [
    "# importing them"
   ]
  },
  {
   "cell_type": "code",
   "execution_count": 1,
   "id": "040522b3",
   "metadata": {},
   "outputs": [],
   "source": [
    "import matplotlib.pyplot as plt\n",
    "from mplsoccer.pitch import Pitch, VerticalPitch\n",
    "import pandas as pd\n",
    "from pandas import json_normalize\n",
    "import numpy as np\n",
    "import requests"
   ]
  },
  {
   "cell_type": "markdown",
   "id": "7cc426db",
   "metadata": {},
   "source": [
    "# Connect to the database"
   ]
  },
  {
   "cell_type": "code",
   "execution_count": null,
   "id": "8a8494f9",
   "metadata": {},
   "outputs": [],
   "source": [
    "# load all match data\n",
    "events = requests.get(\"https://raw.githubusercontent.com/statsbomb/open-data/master/data/events/3906390.json\")\n",
    "events = events.json()\n",
    "# events"
   ]
  },
  {
   "cell_type": "markdown",
   "id": "2f1ac81a",
   "metadata": {},
   "source": [
    "# Transform data to a Dataframe"
   ]
  },
  {
   "cell_type": "code",
   "execution_count": 3,
   "id": "605bc499",
   "metadata": {},
   "outputs": [],
   "source": [
    "df = json_normalize(events)\n",
    "pd.set_option('display.max_columns', None)\n",
    "# df.head()"
   ]
  },
  {
   "cell_type": "markdown",
   "id": "a5d4edf0",
   "metadata": {},
   "source": [
    "# filter out necessary data"
   ]
  },
  {
   "cell_type": "code",
   "execution_count": 4,
   "id": "38b35622",
   "metadata": {},
   "outputs": [],
   "source": [
    "spain_passes = df.loc[(df['type.name'] == 'Pass') & (df['possession_team.name'] == \"Spain Women's\")]\n",
    "# spain_passes.tail()"
   ]
  },
  {
   "cell_type": "markdown",
   "id": "d8ca4702",
   "metadata": {},
   "source": [
    "# Draw a Pitch"
   ]
  },
  {
   "cell_type": "code",
   "execution_count": null,
   "id": "0a1df74b",
   "metadata": {},
   "outputs": [],
   "source": [
    "fig, ax = plt.subplots(figsize=(16, 11))\n",
    "pitch = Pitch(pitch_type='statsbomb', positional=True, pitch_color='grass', line_color='white', goal_type='box',\n",
    "              stripe=True)  # optional stripes\n",
    "pitch.draw(ax=ax)"
   ]
  },
  {
   "cell_type": "markdown",
   "id": "d024b495",
   "metadata": {},
   "source": [
    "# Create pass Map"
   ]
  },
  {
   "cell_type": "code",
   "execution_count": null,
   "id": "57ee7067",
   "metadata": {},
   "outputs": [],
   "source": [
    "fig, ax = plt.subplots(figsize=(16, 11))\n",
    "pitch = Pitch(pitch_type='statsbomb', positional=True, pitch_color='grass', line_color='white', goal_type='box',\n",
    "              stripe=True)  # optional stripes\n",
    "pitch.draw(ax=ax)\n",
    "\n",
    "for x in range(len(spain_passes['id'])):\n",
    "    # we can choose period 1,2 or both\n",
    "    if spain_passes['period'].iloc[x] == 1 or spain_passes['period'].iloc[x] == 2:\n",
    "\n",
    "        if any([spain_passes['pass.outcome.name'].iloc[x] == 'Incomplete', spain_passes['pass.outcome.name'].iloc[x] == 'Out',\n",
    "                spain_passes['pass.outcome.name'].iloc[x] == 'Unknown', spain_passes['pass.outcome.name'].iloc[x] == 'Pass Offside',\n",
    "                spain_passes['pass.outcome.name'].iloc[x] == 'Injury Clearance']):\n",
    "            pitch.arrows(spain_passes['location'].iloc[x][0], spain_passes['location'].iloc[x][1],\n",
    "                         spain_passes['pass.end_location'].iloc[x][0], spain_passes['pass.end_location'].iloc[x][1],\n",
    "                         ax=ax, color='red', width=2, headwidth=10, headlength=10, label='Unsuccessful Pass')\n",
    "        else:\n",
    "            pitch.arrows(spain_passes['location'].iloc[x][0], spain_passes['location'].iloc[x][1],\n",
    "                        spain_passes['pass.end_location'].iloc[x][0], spain_passes['pass.end_location'].iloc[x][1],\n",
    "                        ax=ax, color='blue', width=2, headwidth=10, headlength=10, label='Successful Pass')\n",
    "plt.title('Spain Passes', color='black', fontsize=20)\n",
    "# add bar to indicate passes as successful pass and unsuccessful pass\n",
    "plt.xlabel('Pitch Length', color='black', fontsize=15)\n",
    "plt.ylabel('Pitch Width', color='black', fontsize=15)\n",
    "# plt.legend()\n",
    "plt.show()\n"
   ]
  },
  {
   "cell_type": "code",
   "execution_count": null,
   "id": "9d815c48",
   "metadata": {},
   "outputs": [],
   "source": [
    "fig, ax = plt.subplots(figsize=(16, 11))\n",
    "pitch = Pitch(pitch_type='statsbomb', positional=True, pitch_color='grass', line_color='white', goal_type='box',\n",
    "              stripe=True)  # optional stripes\n",
    "pitch.draw(ax=ax)\n",
    "\n",
    "for x in range(len(spain_passes['id'])):\n",
    "    # we can choose period 1,2 or both\n",
    "    if (spain_passes['period'].iloc[x] == 2 or spain_passes['period'].iloc[x] == 1) and (spain_passes['player.id'].iloc[x] == 49836.0):\n",
    "\n",
    "        if any([spain_passes['pass.outcome.name'].iloc[x] == 'Incomplete', spain_passes['pass.outcome.name'].iloc[x] == 'Out',\n",
    "                spain_passes['pass.outcome.name'].iloc[x] == 'Unknown', spain_passes['pass.outcome.name'].iloc[x] == 'Pass Offside',\n",
    "                spain_passes['pass.outcome.name'].iloc[x] == 'Injury Clearance']):\n",
    "            pitch.arrows(spain_passes['location'].iloc[x][0], spain_passes['location'].iloc[x][1],\n",
    "                         spain_passes['pass.end_location'].iloc[x][0], spain_passes['pass.end_location'].iloc[x][1],\n",
    "                         ax=ax, color='red', width=2, headwidth=10, headlength=10, label='Unsuccessful Pass')\n",
    "        else:\n",
    "            pitch.arrows(spain_passes['location'].iloc[x][0], spain_passes['location'].iloc[x][1],\n",
    "                        spain_passes['pass.end_location'].iloc[x][0], spain_passes['pass.end_location'].iloc[x][1],\n",
    "                        ax=ax, color='blue', width=2, headwidth=10, headlength=10, label='Successful Pass')\n",
    "plt.title('Olga Carmona García Passes', color='black', fontsize=20)\n",
    "# add bar to indicate passes as successful pass and unsuccessful pass\n",
    "plt.xlabel('Pitch Length', color='black', fontsize=15)\n",
    "plt.ylabel('Pitch Width', color='black', fontsize=15)\n",
    "# plt.legend()\n",
    "plt.show()\n"
   ]
  },
  {
   "cell_type": "markdown",
   "id": "c631c4e6",
   "metadata": {},
   "source": [
    "### Olga Carmona García's true passes and false passes"
   ]
  },
  {
   "cell_type": "code",
   "execution_count": null,
   "id": "b56f9ff9",
   "metadata": {},
   "outputs": [
    {
     "data": {
      "text/plain": [
       "player.id\n",
       "False    459\n",
       "True      75\n",
       "Name: count, dtype: int64"
      ]
     },
     "execution_count": 30,
     "metadata": {},
     "output_type": "execute_result"
    }
   ],
   "source": [
    "(spain_passes['player.id'] == 49836).value_counts()"
   ]
  },
  {
   "cell_type": "code",
   "execution_count": 31,
   "id": "8d967898",
   "metadata": {},
   "outputs": [
    {
     "data": {
      "text/plain": [
       "player.id\n",
       "False    0.859551\n",
       "True     0.140449\n",
       "Name: proportion, dtype: float64"
      ]
     },
     "execution_count": 31,
     "metadata": {},
     "output_type": "execute_result"
    }
   ],
   "source": [
    "(spain_passes['player.id'] == 49836).value_counts(True)\n"
   ]
  },
  {
   "cell_type": "markdown",
   "id": "581f6de5",
   "metadata": {},
   "source": [
    "# Create a Shots Map"
   ]
  },
  {
   "cell_type": "code",
   "execution_count": null,
   "id": "e215a8e5",
   "metadata": {},
   "outputs": [],
   "source": [
    "spain_shots = df.loc[(df['type.name'] == 'Shot') & (df['possession_team.name'] == \"Spain Women's\")]\n",
    "# spain_shots.tail()"
   ]
  },
  {
   "cell_type": "code",
   "execution_count": null,
   "id": "8e5e74b3",
   "metadata": {},
   "outputs": [],
   "source": [
    "fig, ax = plt.subplots(figsize=(16, 11))\n",
    "pitch = Pitch(pitch_type='statsbomb', positional=True, pitch_color='grass', line_color='white', goal_type='box',\n",
    "              stripe=True)  # optional stripes\n",
    "pitch.draw(ax=ax)\n",
    "\n",
    "for x in range(len(spain_shots)):\n",
    "    # we can choose period 1,2 or both\n",
    "    if (spain_shots['period'].iloc[x] == 1 or spain_shots['period'].iloc[x] == 2):\n",
    "        # size of scatter will depend on xG\n",
    "        size = np.sqrt(spain_shots['shot.statsbomb_xg'].iloc[x]) * 200\n",
    "        if spain_shots['shot.outcome.name'].iloc[x] == 'Goal':\n",
    "            pitch.arrows(spain_shots['location'].iloc[x][0], spain_shots['location'].iloc[x][1],\n",
    "                         spain_shots['shot.end_location'].iloc[x][0], spain_shots['shot.end_location'].iloc[x][1],\n",
    "                         ax=ax, color='blue', width=2, headwidth=10, headlength=10, label='Goal')\n",
    "        else:\n",
    "            pitch.arrows(spain_shots['location'].iloc[x][0], spain_shots['location'].iloc[x][1],\n",
    "                         spain_shots['shot.end_location'].iloc[x][0], spain_shots['shot.end_location'].iloc[x][1],\n",
    "                         ax=ax, color='red', width=2, headwidth=10, headlength=10, label='Miss')\n",
    "        \n",
    "\n",
    "plt.title('Spain Shots', color='black', fontsize=20)\n",
    "# add bar to indicate passes as successful pass and unsuccessful pass\n",
    "plt.xlabel('Pitch Length', color='black', fontsize=15)\n",
    "plt.ylabel('Pitch Width', color='black', fontsize=15)\n",
    "# plt.legend()\n",
    "plt.show()\n"
   ]
  },
  {
   "cell_type": "markdown",
   "id": "ad1ca451",
   "metadata": {},
   "source": [
    "# Create Possession Chart"
   ]
  },
  {
   "cell_type": "code",
   "execution_count": null,
   "id": "d33de69f",
   "metadata": {},
   "outputs": [],
   "source": [
    "import copy\n",
    "\n",
    "poss_test = copy.copy(df)\n",
    "# poss_test.head()"
   ]
  },
  {
   "cell_type": "code",
   "execution_count": null,
   "id": "29cd0419",
   "metadata": {},
   "outputs": [],
   "source": [
    "# inverting possession duration for the opposite team (making it negative)\n",
    "\n",
    "for x in range(len(poss_test['index'])):\n",
    "    if (poss_test['possession_team.id'].iloc[x] == 865):\n",
    "        poss_test.duration.iloc[x] = poss_test.duration.iloc[x] * -1"
   ]
  },
  {
   "cell_type": "code",
   "execution_count": null,
   "id": "d94680d1",
   "metadata": {},
   "outputs": [],
   "source": [
    "# poss_test.head()"
   ]
  },
  {
   "cell_type": "code",
   "execution_count": null,
   "id": "8b9d7d31",
   "metadata": {},
   "outputs": [
    {
     "data": {
      "image/png": "[encoded data removed]",
      "text/plain": [
       "<Figure size 640x480 with 1 Axes>"
      ]
     },
     "metadata": {},
     "output_type": "display_data"
    }
   ],
   "source": [
    "fig = plt.figure()\n",
    "ax = fig.add_subplot()\n",
    "fig.subplots_adjust(top=0.85)\n",
    "\n",
    "fig.suptitle('Possession Chart', fontsize=14, fontweight='bold')\n",
    "ax.set_title(df['team.name'][0] + ' (blue)' + ' vs ' + df['team.name'][1] + '(red)')\n",
    "\n",
    "ax.set_xlabel('Minutes')\n",
    "ax.set_ylabel('Possession')\n",
    "\n",
    "plt.bar(poss_test.minute, poss_test.duration, color=np.where(poss_test.duration>0, 'b', 'r'), alpha=0.3)\n",
    "\n",
    "plt.axhline(0, color='black')\n",
    "\n",
    "tot_min = poss_test.minute.max()\n",
    "plt.xticks(np.arange(0, tot_min, step=10))\n",
    "plt.show()\n"
   ]
  }
 ],
 "metadata": {
  "kernelspec": {
   "display_name": "env (3.12.5)",
   "language": "python",
   "name": "python3"
  },
  "language_info": {
   "codemirror_mode": {
    "name": "ipython",
    "version": 3
   },
   "file_extension": ".py",
   "mimetype": "text/x-python",
   "name": "python",
   "nbconvert_exporter": "python",
   "pygments_lexer": "ipython3",
   "version": "3.12.5"
  }
 },
 "nbformat": 4,
 "nbformat_minor": 5
}
